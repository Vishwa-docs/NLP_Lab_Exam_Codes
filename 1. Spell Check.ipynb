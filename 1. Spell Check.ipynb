{
 "cells": [
  {
   "cell_type": "code",
   "execution_count": 1,
   "metadata": {},
   "outputs": [
    {
     "name": "stdout",
     "output_type": "stream",
     "text": [
      "/Users/daver/Desktop/NLP_Lab_Exam_Codes/.venv/bin/python\n"
     ]
    }
   ],
   "source": [
    "import sys\n",
    "print(sys.executable)"
   ]
  },
  {
   "cell_type": "code",
   "execution_count": 2,
   "metadata": {},
   "outputs": [],
   "source": [
    "import nltk\n",
    "from nltk.util import ngrams\n",
    "from nltk.metrics.distance import edit_distance"
   ]
  },
  {
   "cell_type": "code",
   "execution_count": 3,
   "metadata": {},
   "outputs": [],
   "source": [
    "sentences = {\n",
    "    \"Mr Patrick is our new xyz.\": [\"principal\", \"principle\"],\n",
    "    \"The company xyz all the terms.\": [\"accepted\", \"excepted\"],\n",
    "    \"Please don’t keep your dog on the xyz.\": [\"loose\", \"lose\"],\n",
    "    \"The xyz is my best friend.\": [\"latter\", \"later\"],\n",
    "    \"I need some xyz products for my craftwork.\": [\"stationery\", \"stationary\"],\n",
    "    \"The actor xyz the Oscar.\": [\"accepted\", \"excepted\"],\n",
    "    \"I will call you xyz in the evening.\": [\"later\", \"latter\"],\n",
    "    \"Covid xyz the lungs.\": [\"affects\", \"effects\"],\n",
    "    \"The xyz of the ministers were sworn in yesterday.\": [\"council\", \"counsel\"],\n",
    "    \"Robert xyz wants to accompany us to the park.\": [\"too\", \"to\"],\n",
    "    \"Mia will xyz me about choosing fashion as my career.\": [\"counsel\", \"council\"],\n",
    "    \"The xyz at the zoo was very playful.\": [\"bear\", \"bare\"],\n",
    "    \"The sheep have a lot of xyz that keeps them warm.\": [\"fur\", \"far\"], \"The hot spring is at the xyz corner of the street.\": [\"farthest\", \"furthest\"],\n",
    "    \"Can you xyz me on how to study for exams?\": [\"advise\", \"advice\"],\n",
    "    \"The team will xyz the match if they don’t play well.\": [\"lose\", \"loose\"], \"Can you go xyz the market for me?\": [\"to\", \"too\"],\n",
    "    \"The teachers asked the students to keep xyz.\": [\"quiet\", \"quite\"],\n",
    "    \"The xyz of garbage should be cleaned immediately.\": [\"heap\", \"hip\"], \n",
    "    \"This is xyz house.\": [\"their\", \"there\"]\n",
    "}"
   ]
  },
  {
   "cell_type": "code",
   "execution_count": 4,
   "metadata": {},
   "outputs": [],
   "source": [
    "def find_best_fit_word(sentence, choices):\n",
    "    n = len(sentence.split())\n",
    "    sentence_ngrams = list(ngrams(sentence.split(), n))\n",
    "    best_fit_word = None\n",
    "    min_distance = float('inf') \n",
    "    for choice in choices:\n",
    "        choice_ngrams = list(ngrams(choice.split(), n))\n",
    "        distance = edit_distance(sentence_ngrams, choice_ngrams) \n",
    "        if distance < min_distance:\n",
    "            min_distance = distance\n",
    "            best_fit_word = choice \n",
    "    return best_fit_word"
   ]
  },
  {
   "cell_type": "code",
   "execution_count": 5,
   "metadata": {},
   "outputs": [],
   "source": [
    "results = {}\n",
    "for sentence, choices in sentences.items():\n",
    "    best_fit_word = find_best_fit_word(sentence, choices)\n",
    "    results[sentence] = best_fit_word"
   ]
  },
  {
   "cell_type": "code",
   "execution_count": 6,
   "metadata": {},
   "outputs": [
    {
     "name": "stdout",
     "output_type": "stream",
     "text": [
      "Mr Patrick is our new principal.\n",
      "The company accepted all the terms.\n",
      "Please don’t keep your dog on the loose.\n",
      "The latter is my best friend.\n",
      "I need some stationery products for my craftwork.\n",
      "The actor accepted the Oscar.\n",
      "I will call you later in the evening.\n",
      "Covid affects the lungs.\n",
      "The council of the ministers were sworn in yesterday.\n",
      "Robert too wants to accompany us to the park.\n",
      "Mia will counsel me about choosing fashion as my career.\n",
      "The bear at the zoo was very playful.\n",
      "The sheep have a lot of fur that keeps them warm.\n",
      "The hot spring is at the farthest corner of the street.\n",
      "Can you advise me on how to study for exams?\n",
      "The team will lose the match if they don’t play well.\n",
      "Can you go to the market for me?\n",
      "The teachers asked the students to keep quiet.\n",
      "The heap of garbage should be cleaned immediately.\n",
      "This is their house.\n"
     ]
    }
   ],
   "source": [
    "for sentence, best_fit_word in results.items(): \n",
    "    print(sentence.replace('xyz', best_fit_word))"
   ]
  }
 ],
 "metadata": {
  "kernelspec": {
   "display_name": ".venv",
   "language": "python",
   "name": "python3"
  },
  "language_info": {
   "codemirror_mode": {
    "name": "ipython",
    "version": 3
   },
   "file_extension": ".py",
   "mimetype": "text/x-python",
   "name": "python",
   "nbconvert_exporter": "python",
   "pygments_lexer": "ipython3",
   "version": "3.12.2"
  }
 },
 "nbformat": 4,
 "nbformat_minor": 2
}
