{
 "cells": [
  {
   "cell_type": "code",
   "execution_count": null,
   "metadata": {},
   "outputs": [],
   "source": [
    "# Given 5 sentences, find a phrase from the sentences such that it encompasses all info from the 5 sentence, find a phrase from the sentences such that it encompasses all info from the 5 sentence"
   ]
  }
 ],
 "metadata": {
  "language_info": {
   "name": "python"
  }
 },
 "nbformat": 4,
 "nbformat_minor": 2
}
